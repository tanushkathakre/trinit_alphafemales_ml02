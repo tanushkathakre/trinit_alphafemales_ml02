{
  "nbformat": 4,
  "nbformat_minor": 0,
  "metadata": {
    "colab": {
      "provenance": [],
      "authorship_tag": "ABX9TyOZ7MYJn4k8fd3lwcgyuO7r"
    },
    "kernelspec": {
      "name": "python3",
      "display_name": "Python 3"
    },
    "language_info": {
      "name": "python"
    }
  },
  "cells": [
    {
      "cell_type": "code",
      "source": [
        "import pandas as pd\n",
        "import numpy as np\n",
        "import re\n",
        "import string\n",
        "import nltk\n",
        "from nltk.corpus import stopwords\n",
        "from sklearn.feature_extraction.text import TfidfVectorizer\n",
        "from sklearn.multioutput import MultiOutputClassifier\n",
        "from sklearn.linear_model import LogisticRegression\n",
        "from sklearn.model_selection import train_test_split\n",
        "from sklearn.metrics import classification_report\n",
        "\n",
        "\n",
        "nltk.download('stopwords')\n",
        "nltk.download('punkt')\n",
        "\n",
        "\n",
        "train_data = pd.read_csv('multilabel_train.csv')\n",
        "test_data = pd.read_csv('multilabel_test.csv')\n",
        "\n",
        "def preprocess_text(text):\n",
        "    text = text.lower()\n",
        "    text = text.translate(str.maketrans('', '', string.punctuation))\n",
        "    text = re.sub(r'\\d+', '', text)\n",
        "    tokens = nltk.word_tokenize(text)\n",
        "    stop_words = set(stopwords.words('english'))\n",
        "    filtered_tokens = [word for word in tokens if word not in stop_words]\n",
        "    text = ' '.join(filtered_tokens)\n",
        "    return text\n",
        "\n",
        "\n",
        "train_data['preprocessed_text'] = train_data['Description'].apply(preprocess_text)\n",
        "test_data['preprocessed_text'] = test_data['Description'].apply(preprocess_text)\n",
        "\n",
        "\n",
        "X_train = train_data['preprocessed_text']\n",
        "y_train = train_data[['Commenting', 'Ogling/Facial Expressions/Staring', 'Touching /Groping']]\n",
        "\n",
        "X_test = test_data['preprocessed_text']\n",
        "y_test = test_data[['Commenting', 'Ogling/Facial Expressions/Staring', 'Touching /Groping']]\n",
        "\n",
        "\n",
        "tfidf_vectorizer = TfidfVectorizer()\n",
        "X_train_tfidf = tfidf_vectorizer.fit_transform(X_train)\n",
        "X_test_tfidf = tfidf_vectorizer.transform(X_test)\n",
        "\n",
        "\n",
        "classifier = MultiOutputClassifier(LogisticRegression())\n",
        "classifier.fit(X_train_tfidf, y_train)\n",
        "\n",
        "y_pred = classifier.predict(X_test_tfidf)\n",
        "\n",
        "predictions_df = pd.DataFrame(y_pred, columns=['Commenting', 'Ogling/Facial Expressions/Staring', 'Touching /Groping'])\n",
        "\n",
        "\n",
        "predictions_df.to_csv('predictions.csv', index=False)\n",
        "\n",
        "print(classification_report(y_test, y_pred))\n"
      ],
      "metadata": {
        "colab": {
          "base_uri": "https://localhost:8080/"
        },
        "id": "mNfeCNbIoazO",
        "outputId": "35837a86-df98-4e1e-9aa2-2137c1296908"
      },
      "execution_count": null,
      "outputs": [
        {
          "output_type": "stream",
          "name": "stderr",
          "text": [
            "[nltk_data] Downloading package stopwords to /root/nltk_data...\n",
            "[nltk_data]   Package stopwords is already up-to-date!\n",
            "[nltk_data] Downloading package punkt to /root/nltk_data...\n",
            "[nltk_data]   Package punkt is already up-to-date!\n"
          ]
        },
        {
          "output_type": "stream",
          "name": "stdout",
          "text": [
            "              precision    recall  f1-score   support\n",
            "\n",
            "           0       0.83      0.62      0.71       654\n",
            "           1       0.82      0.23      0.37       375\n",
            "           2       0.90      0.59      0.72       525\n",
            "\n",
            "   micro avg       0.85      0.52      0.64      1554\n",
            "   macro avg       0.85      0.48      0.60      1554\n",
            "weighted avg       0.85      0.52      0.63      1554\n",
            " samples avg       0.43      0.39      0.40      1554\n",
            "\n"
          ]
        },
        {
          "output_type": "stream",
          "name": "stderr",
          "text": [
            "/usr/local/lib/python3.10/dist-packages/sklearn/metrics/_classification.py:1344: UndefinedMetricWarning: Precision and F-score are ill-defined and being set to 0.0 in samples with no predicted labels. Use `zero_division` parameter to control this behavior.\n",
            "  _warn_prf(average, modifier, msg_start, len(result))\n",
            "/usr/local/lib/python3.10/dist-packages/sklearn/metrics/_classification.py:1344: UndefinedMetricWarning: Recall and F-score are ill-defined and being set to 0.0 in samples with no true labels. Use `zero_division` parameter to control this behavior.\n",
            "  _warn_prf(average, modifier, msg_start, len(result))\n"
          ]
        }
      ]
    },
    {
      "cell_type": "code",
      "source": [
        "from sklearn.ensemble import RandomForestClassifier\n",
        "\n",
        "# Train multi-output Random Forest classifier\n",
        "classifier = MultiOutputClassifier(RandomForestClassifier())\n",
        "classifier.fit(X_train_tfidf, y_train)\n",
        "\n",
        "y_pred = classifier.predict(X_test_tfidf)\n",
        "print(classification_report(y_test, y_pred))\n"
      ],
      "metadata": {
        "colab": {
          "base_uri": "https://localhost:8080/"
        },
        "id": "VJiXzuvMcv7P",
        "outputId": "a97a51c6-2d54-4c70-e76c-d3d69a90eace"
      },
      "execution_count": null,
      "outputs": [
        {
          "output_type": "stream",
          "name": "stdout",
          "text": [
            "              precision    recall  f1-score   support\n",
            "\n",
            "           0       0.81      0.65      0.72       654\n",
            "           1       0.74      0.34      0.46       375\n",
            "           2       0.87      0.63      0.73       525\n",
            "\n",
            "   micro avg       0.82      0.57      0.67      1554\n",
            "   macro avg       0.81      0.54      0.64      1554\n",
            "weighted avg       0.81      0.57      0.66      1554\n",
            " samples avg       0.46      0.42      0.43      1554\n",
            "\n"
          ]
        },
        {
          "output_type": "stream",
          "name": "stderr",
          "text": [
            "/usr/local/lib/python3.10/dist-packages/sklearn/metrics/_classification.py:1344: UndefinedMetricWarning: Precision and F-score are ill-defined and being set to 0.0 in samples with no predicted labels. Use `zero_division` parameter to control this behavior.\n",
            "  _warn_prf(average, modifier, msg_start, len(result))\n",
            "/usr/local/lib/python3.10/dist-packages/sklearn/metrics/_classification.py:1344: UndefinedMetricWarning: Recall and F-score are ill-defined and being set to 0.0 in samples with no true labels. Use `zero_division` parameter to control this behavior.\n",
            "  _warn_prf(average, modifier, msg_start, len(result))\n"
          ]
        }
      ]
    },
    {
      "cell_type": "code",
      "source": [
        "from sklearn.ensemble import GradientBoostingClassifier\n",
        "\n",
        "# Train multi-output Gradient Boosting classifier\n",
        "classifier = MultiOutputClassifier(GradientBoostingClassifier())\n",
        "classifier.fit(X_train_tfidf, y_train)\n",
        "\n",
        "y_pred = classifier.predict(X_test_tfidf)\n",
        "print(classification_report(y_test, y_pred))\n"
      ],
      "metadata": {
        "colab": {
          "base_uri": "https://localhost:8080/"
        },
        "id": "FnUUQ1uSdiEV",
        "outputId": "932c68db-0c3a-4963-9fbe-84007fc580db"
      },
      "execution_count": null,
      "outputs": [
        {
          "output_type": "stream",
          "name": "stdout",
          "text": [
            "              precision    recall  f1-score   support\n",
            "\n",
            "           0       0.87      0.56      0.68       654\n",
            "           1       0.77      0.29      0.42       375\n",
            "           2       0.90      0.58      0.71       525\n",
            "\n",
            "   micro avg       0.87      0.50      0.63      1554\n",
            "   macro avg       0.85      0.48      0.60      1554\n",
            "weighted avg       0.86      0.50      0.63      1554\n",
            " samples avg       0.41      0.37      0.38      1554\n",
            "\n"
          ]
        },
        {
          "output_type": "stream",
          "name": "stderr",
          "text": [
            "/usr/local/lib/python3.10/dist-packages/sklearn/metrics/_classification.py:1344: UndefinedMetricWarning: Precision and F-score are ill-defined and being set to 0.0 in samples with no predicted labels. Use `zero_division` parameter to control this behavior.\n",
            "  _warn_prf(average, modifier, msg_start, len(result))\n",
            "/usr/local/lib/python3.10/dist-packages/sklearn/metrics/_classification.py:1344: UndefinedMetricWarning: Recall and F-score are ill-defined and being set to 0.0 in samples with no true labels. Use `zero_division` parameter to control this behavior.\n",
            "  _warn_prf(average, modifier, msg_start, len(result))\n"
          ]
        }
      ]
    },
    {
      "cell_type": "code",
      "source": [
        "from sklearn.metrics import hamming_loss\n",
        "\n",
        "# Calculate Hamming loss\n",
        "hamming_score = 1.0 - hamming_loss(y_test, y_pred)\n",
        "\n",
        "print(\"Hamming score:\", hamming_score)\n"
      ],
      "metadata": {
        "colab": {
          "base_uri": "https://localhost:8080/"
        },
        "id": "UXAi1NXypfIA",
        "outputId": "9e611406-7a32-46d0-8973-f4006a1e93cb"
      },
      "execution_count": null,
      "outputs": [
        {
          "output_type": "stream",
          "name": "stdout",
          "text": [
            "Hamming score: 0.8308837938467568\n"
          ]
        }
      ]
    },
    {
      "cell_type": "code",
      "source": [
        "from sklearn.metrics import confusion_matrix, ConfusionMatrixDisplay\n",
        "import matplotlib.pyplot as plt\n",
        "# Confusion Matrix\n",
        "cm = confusion_matrix(y_test.values.argmax(axis=1), y_pred.argmax(axis=1))\n",
        "disp = ConfusionMatrixDisplay(confusion_matrix=cm, display_labels=['Commenting', 'Ogling/Facial Expressions/Staring', 'Touching /Groping'])\n",
        "disp.plot()\n",
        "plt.title('Confusion Matrix')\n",
        "plt.show()\n",
        "\n",
        "\n"
      ],
      "metadata": {
        "colab": {
          "base_uri": "https://localhost:8080/",
          "height": 472
        },
        "id": "BCD8tJXEsosW",
        "outputId": "b71b9570-2c61-45cb-fb17-da4663ca5a64"
      },
      "execution_count": 26,
      "outputs": [
        {
          "output_type": "display_data",
          "data": {
            "text/plain": [
              "<Figure size 640x480 with 2 Axes>"
            ],
            "image/png": "[encoded data removed]"
          },
          "metadata": {}
        }
      ]
    },
    {
      "cell_type": "code",
      "source": [
        "def classify_text(text):\n",
        "\n",
        "    preprocessed_text = preprocess_text(text)\n",
        "\n",
        "    text_tfidf = tfidf_vectorizer.transform([preprocessed_text])\n",
        "\n",
        "    prediction = classifier.predict(text_tfidf)\n",
        "\n",
        "    predicted_indices = np.where(prediction[0] == 1)[0]\n",
        "    predicted_categories = train_data.columns[1:][predicted_indices]\n",
        "    return predicted_categories\n",
        "\n",
        "input_text = \"IT HAPPENED NEAR MY residence that is in R.K PURAM SEC 8,NEAR GOVERNMENT SCHOOL ROAD..THERE WAS A GUY WALKING BEHIND ME AFTER FEW SECONDS I JUST REALIZED THAT GUY GROPED ME FROM BEHIND\"\n",
        "predicted_categories = classify_text(input_text)\n",
        "print(\"Predicted Categories:\", predicted_categories)"
      ],
      "metadata": {
        "colab": {
          "base_uri": "https://localhost:8080/"
        },
        "id": "DwqSexuMpIJ5",
        "outputId": "ce5514b7-cf4c-459f-a522-300ddd7a1505"
      },
      "execution_count": null,
      "outputs": [
        {
          "output_type": "stream",
          "name": "stdout",
          "text": [
            "Predicted Categories: Index(['Touching /Groping'], dtype='object')\n"
          ]
        }
      ]
    },
    {
      "cell_type": "code",
      "source": [
        "!pip install shap lime"
      ],
      "metadata": {
        "id": "kp2eBefopYcn"
      },
      "execution_count": null,
      "outputs": []
    },
    {
      "cell_type": "code",
      "source": [
        "import shap\n",
        "\n",
        "\n",
        "base_estimator = classifier.estimators_[0]\n",
        "\n",
        "\n",
        "explainer = shap.Explainer(base_estimator, X_train_tfidf)\n",
        "\n",
        "def classify_text_with_shap(text):\n",
        "\n",
        "    preprocessed_text = preprocess_text(text)\n",
        "\n",
        "    text_tfidf = tfidf_vectorizer.transform([preprocessed_text])\n",
        "\n",
        "    shap_values = explainer(text_tfidf)\n",
        "\n",
        "    shap_summary = np.mean(np.abs(shap_values.values), axis=0)\n",
        "\n",
        "    top_features = np.argsort(shap_summary)[::-1][:5]  # Top 5 features\n",
        "\n",
        "    top_features_names = tfidf_vectorizer.get_feature_names_out()[top_features]\n",
        "    return top_features_names\n",
        "\n",
        "input_text = \"IT HAPPENED NEAR MY residence that is in R.K PURAM SEC 8,NEAR GOVERNMENT SCHOOL ROAD..THERE WAS A GUY WALKING BEHIND ME AFTER FEW SECONDS I JUST REALIZED THAT GUY GROPED ME FROM BEHIND\"\n",
        "top_features = classify_text_with_shap(input_text)\n",
        "print(\"Top Features:\", top_features)"
      ],
      "metadata": {
        "colab": {
          "base_uri": "https://localhost:8080/"
        },
        "id": "RRQYp5pKpSMI",
        "outputId": "758063c0-606d-47c4-9896-4a3bed3c5d80"
      },
      "execution_count": null,
      "outputs": [
        {
          "output_type": "stream",
          "name": "stdout",
          "text": [
            "Top Features: ['groped' 'near' 'guy' 'comments' 'commented']\n"
          ]
        }
      ]
    },
    {
      "cell_type": "code",
      "source": [
        "!pip install shap"
      ],
      "metadata": {
        "id": "D-jVGqGEA2Ik"
      },
      "execution_count": null,
      "outputs": []
    },
    {
      "cell_type": "code",
      "source": [
        "import shap\n",
        "import numpy as np\n",
        "\n",
        "base_estimator = classifier.estimators_[0]\n",
        "\n",
        "explainer = shap.Explainer(base_estimator, X_train_tfidf)\n",
        "\n",
        "def classify_text_with_shap(text):\n",
        "    preprocessed_text = preprocess_text(text)\n",
        "    text_tfidf = tfidf_vectorizer.transform([preprocessed_text])\n",
        "\n",
        "    shap_values = explainer(text_tfidf)\n",
        "\n",
        "    shap_summary = np.mean(np.abs(shap_values.values), axis=0)\n",
        "\n",
        "    top_features = np.argsort(shap_summary)[::-1][:5]  # Top 5 features\n",
        "    top_features_names = tfidf_vectorizer.get_feature_names_out()[top_features]\n",
        "\n",
        "    print(\"SHAP Values for all features:\", shap_values.values)\n",
        "    print(\"Feature Names:\", tfidf_vectorizer.get_feature_names_out())\n",
        "\n",
        "    return shap_values.values, tfidf_vectorizer.get_feature_names_out()\n",
        "\n",
        "input_text = \"IT HAPPENED NEAR MY residence that is in R.K PURAM SEC 8,NEAR GOVERNMENT SCHOOL ROAD..THERE WAS A GUY WALKING BEHIND ME AFTER FEW SECONDS I JUST REALIZED THAT GUY GROPED ME FROM BEHIND\"\n",
        "shap_values, feature_names = classify_text_with_shap(input_text)\n",
        "\n",
        "# Saving SHAP values to explanations.csv\n",
        "shap_df = pd.DataFrame(shap_values, columns=feature_names)\n",
        "shap_df.to_csv('explanations.csv', index=False)\n",
        "\n"
      ],
      "metadata": {
        "colab": {
          "base_uri": "https://localhost:8080/"
        },
        "id": "YBwqVFY6SA44",
        "outputId": "0393c29d-d661-4958-e44d-c38a8e9a4e8b"
      },
      "execution_count": 9,
      "outputs": [
        {
          "output_type": "stream",
          "name": "stdout",
          "text": [
            "SHAP Values for all features: [[-0.          0.          0.         ... -0.00089144 -0.\n",
            "  -0.        ]]\n",
            "Feature Names: ['aa' 'aaja' 'aakash' ... 'zoomed' 'zoosome' 'zor']\n"
          ]
        }
      ]
    }
  ]
}
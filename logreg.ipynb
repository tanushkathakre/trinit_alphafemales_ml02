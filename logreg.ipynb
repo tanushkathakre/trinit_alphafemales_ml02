import numpy as np
import matplotlib.pyplot as plt
from sklearn.metrics import hamming_loss

# Define a range of thresholds to try
thresholds = np.arange(0.1, 1.0, 0.1)

# Calculate Hamming losses for different thresholds
hamming_losses = []

for threshold in thresholds:
    # Apply thresholding to predictions
    thresholded_predictions = (y_pred >= threshold).astype(int)
    # Calculate Hamming loss
    hamming_loss_value = hamming_loss(y_test, thresholded_predictions)
    hamming_losses.append(hamming_loss_value)

# Plot Hamming loss versus threshold
plt.plot(thresholds, hamming_losses, marker='o', linestyle='-')
plt.title('Hamming Loss vs Threshold')
plt.xlabel('Threshold')
plt.ylabel('Hamming Loss')
plt.grid(True)
plt.show()
